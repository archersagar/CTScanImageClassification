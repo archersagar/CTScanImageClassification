{
  "nbformat": 4,
  "nbformat_minor": 0,
  "metadata": {
    "colab": {
      "name": "CTScanImageClassification.ipynb",
      "provenance": [],
      "collapsed_sections": [],
      "include_colab_link": true
    },
    "kernelspec": {
      "display_name": "Python 3",
      "name": "python3"
    },
    "accelerator": "GPU"
  },
  "cells": [
    {
      "cell_type": "markdown",
      "metadata": {
        "id": "view-in-github",
        "colab_type": "text"
      },
      "source": [
        "<a href=\"https://colab.research.google.com/github/shreya0202/CTScanImageClassification/blob/main/CTScanImageClassification.ipynb\" target=\"_parent\"><img src=\"https://colab.research.google.com/assets/colab-badge.svg\" alt=\"Open In Colab\"/></a>"
      ]
    },
    {
      "cell_type": "code",
      "metadata": {
        "id": "TOoohZtBMG4Z",
        "outputId": "ca4729e6-d72c-4af5-8543-3bfc2dd0da6b",
        "colab": {
          "base_uri": "https://localhost:8080/",
          "height": 35
        }
      },
      "source": [
        "#Mounting Google Drive to get the dataset folder\n",
        "from google.colab import drive\n",
        "drive.mount('/content/drive')"
      ],
      "execution_count": null,
      "outputs": [
        {
          "output_type": "stream",
          "text": [
            "Drive already mounted at /content/drive; to attempt to forcibly remount, call drive.mount(\"/content/drive\", force_remount=True).\n"
          ],
          "name": "stdout"
        }
      ]
    },
    {
      "cell_type": "code",
      "metadata": {
        "id": "4QJoEiV8Nn5Y"
      },
      "source": [
        "#importing all the necessary libraries\n",
        "import numpy as np\n",
        "import matplotlib.pyplot as plt\n",
        "import matplotlib.image as mpimg\n",
        "import os\n",
        "import cv2\n",
        "import fnmatch\n",
        "import pandas as pd\n",
        "from sklearn.model_selection import train_test_split\n",
        "import PIL\n",
        "import os\n",
        "import os.path\n",
        "from PIL import Image\n",
        "from numpy import asarray\n",
        "from sklearn.preprocessing import LabelEncoder, LabelBinarizer\n",
        "\n",
        "import glob\n",
        "import matplotlib\n",
        "import imageio as im\n",
        "from keras import models\n",
        "from keras.models import Sequential, Model, load_model\n",
        "from keras.layers import Conv2D, MaxPooling2D, Flatten, Dense, Dropout\n",
        "from keras.preprocessing import image\n",
        "from keras.preprocessing.image import ImageDataGenerator\n",
        "from keras.callbacks import ModelCheckpoint\n",
        "\n",
        "from sklearn import neighbors\n",
        "from sklearn.ensemble import RandomForestClassifier\n",
        "from sklearn.model_selection import RandomizedSearchCV\n",
        "\n",
        "import pickle"
      ],
      "execution_count": null,
      "outputs": []
    },
    {
      "cell_type": "code",
      "metadata": {
        "id": "l2wWyuvgOCCw"
      },
      "source": [
        "#setting path of the dataset \n",
        "path = \"/content/drive/My Drive/DS3/\""
      ],
      "execution_count": null,
      "outputs": []
    },
    {
      "cell_type": "code",
      "metadata": {
        "id": "3FUTfFhksG1d"
      },
      "source": [
        "#resizing images and storing in a list - Preprocessing Step 1\n",
        "\n",
        "import time\n",
        "start_time = time.time()\n",
        "X = []\n",
        "count = 0\n",
        "for file in os.listdir(path):\n",
        "    f_img = path+\"/\"+file\n",
        "    img = Image.open(f_img)\n",
        "    img = img.resize((32,32))\n",
        "    X.append(np.array(img))\n",
        "    count += 1\n",
        "    print(\"Resized: \", count)\n",
        "\n",
        "end_time = time.time()\n",
        "\n",
        "time_seconds = (end_time - start_time)\n",
        "print('\\n\\nTime taken : {} seconds'.format(time_seconds))"
      ],
      "execution_count": null,
      "outputs": []
    },
    {
      "cell_type": "code",
      "metadata": {
        "id": "CIkfpNCxcUqw"
      },
      "source": [
        "# Display Images\n",
        "def display(a, b, title1, title2):\n",
        "    plt.subplot(121), plt.imshow(a), plt.title(title1)\n",
        "    plt.xticks([]), plt.yticks([])\n",
        "    plt.subplot(122), plt.imshow(b), plt.title(title2)\n",
        "    plt.xticks([]), plt.yticks([])\n",
        "    plt.show()"
      ],
      "execution_count": null,
      "outputs": []
    },
    {
      "cell_type": "code",
      "metadata": {
        "id": "WD54jJ5AElJu"
      },
      "source": [
        "#extracting classes and storing in the target list\n",
        "classes = ['Abdomen', 'Chest', 'Head']\n",
        "Y = []\n",
        "import glob\n",
        "res = []\n",
        "for c in classes:\n",
        "    for name in glob.glob(path+'/*'):\n",
        "      if c in name:\n",
        "        res = c\n",
        "        Y.append(res)\n"
      ],
      "execution_count": null,
      "outputs": []
    },
    {
      "cell_type": "code",
      "metadata": {
        "id": "1Cssvj0P0qyL",
        "outputId": "44fa20fb-1f00-4bc7-def3-d654ea5c96aa",
        "colab": {
          "base_uri": "https://localhost:8080/",
          "height": 203
        }
      },
      "source": [
        "#removing noise using image smoothing via Gaussian Filtering approach - Preprocessing Step 2\n",
        "denoise = []\n",
        "for i in range(len(X)):\n",
        "    blur = cv2.GaussianBlur(X[i], (5, 5), 0)\n",
        "    denoise.append(blur)\n",
        "\n",
        "display(X[1], denoise[1], 'Original Image', 'Obscured Image')"
      ],
      "execution_count": null,
      "outputs": [
        {
          "output_type": "display_data",
          "data": {
            "image/png": "[encoded data removed]",
            "text/plain": [
              "<Figure size 432x288 with 2 Axes>"
            ]
          },
          "metadata": {
            "tags": []
          }
        }
      ]
    },
    {
      "cell_type": "code",
      "metadata": {
        "id": "lwHNJTtldfm0",
        "outputId": "f4331848-be92-4ed4-ceae-0c84b678abb9",
        "colab": {
          "base_uri": "https://localhost:8080/",
          "height": 203
        }
      },
      "source": [
        "# Image Segmentation - Preprocessing Step 3\n",
        "X_segm = []\n",
        "for i in range(len(denoise)):\n",
        "  ret, thresh = cv2.threshold(denoise[i], 0, 255, cv2.THRESH_BINARY_INV + cv2.THRESH_OTSU)\n",
        "  X_segm.append(thresh)\n",
        "\n",
        "X_segm = np.array(X_segm)\n",
        "# Displaying segmented image\n",
        "display(denoise[1], thresh, 'Original Image', 'Segmented Image')"
      ],
      "execution_count": null,
      "outputs": [
        {
          "output_type": "display_data",
          "data": {
            "image/png": "[encoded data removed]",
            "text/plain": [
              "<Figure size 432x288 with 2 Axes>"
            ]
          },
          "metadata": {
            "tags": []
          }
        }
      ]
    },
    {
      "cell_type": "code",
      "metadata": {
        "id": "uESoOmEHJs1z"
      },
      "source": [
        "#converting to np array\n",
        "X = np.array(X_segm)\n",
        "Y = np.array(Y)"
      ],
      "execution_count": null,
      "outputs": []
    },
    {
      "cell_type": "code",
      "metadata": {
        "id": "yek6rUff1kzI"
      },
      "source": [
        "#train test split into 70:30 ratio\n",
        "X = np.reshape(X, (X.shape[0], X.shape[1], X.shape[2], 1))\n",
        "x_train, x_test, y_train, y_test = train_test_split(X,Y,test_size=0.3, random_state = 2000)"
      ],
      "execution_count": null,
      "outputs": []
    },
    {
      "cell_type": "code",
      "metadata": {
        "id": "nzbWnV3bixLs",
        "outputId": "12ec8664-1bc6-46d0-8b33-d118db7d3ea8",
        "colab": {
          "base_uri": "https://localhost:8080/",
          "height": 657
        }
      },
      "source": [
        "#Building a 2D Convolution Neural Network model\n",
        "model = Sequential()\n",
        "\n",
        "#Convolution\n",
        "model.add(Conv2D(32, (3, 3), input_shape = (32,32,1), activation = 'relu')) \n",
        "model.add(Conv2D(64, (3, 3), activation='relu'))\n",
        "model.add(MaxPooling2D(pool_size=(2, 2), name='pool1'))\n",
        "model.add(Dropout(0.5)) \n",
        "\n",
        "# 2nd layer\n",
        "model.add(Conv2D(128, (3, 3), activation = 'relu'))\n",
        "model.add(Conv2D(256, (3, 3), activation='relu'))\n",
        "model.add(MaxPooling2D(pool_size=(2, 2), name='pool2'))\n",
        "model.add(Dropout(0.5))\n",
        "\n",
        "# Flattening\n",
        "model.add(Flatten())\n",
        "\n",
        "# Fully Connected layer\n",
        "model.add(Dense(units=200, name='dense1', activation = 'relu'))\n",
        "model.add(Dropout(0.3)) \n",
        "model.add(Dense(units=64, name='dense2', activation = 'relu'))\n",
        "model.add(Dropout(0.3)) \n",
        "model.add(Dense(units=3, name='output', activation = 'softmax'))\n",
        "\n",
        "layer1 = 'dense1'\n",
        "layer2 = 'dense2'\n",
        "out_layer = 'output'\n",
        "\n",
        "model.compile(loss='categorical_crossentropy', optimizer='adam', metrics=['acc'])\n",
        "model.summary()"
      ],
      "execution_count": null,
      "outputs": [
        {
          "output_type": "stream",
          "text": [
            "Model: \"sequential_15\"\n",
            "_________________________________________________________________\n",
            "Layer (type)                 Output Shape              Param #   \n",
            "=================================================================\n",
            "conv2d_65 (Conv2D)           (None, 30, 30, 32)        320       \n",
            "_________________________________________________________________\n",
            "conv2d_66 (Conv2D)           (None, 28, 28, 64)        18496     \n",
            "_________________________________________________________________\n",
            "pool1 (MaxPooling2D)         (None, 14, 14, 64)        0         \n",
            "_________________________________________________________________\n",
            "dropout_55 (Dropout)         (None, 14, 14, 64)        0         \n",
            "_________________________________________________________________\n",
            "conv2d_67 (Conv2D)           (None, 12, 12, 128)       73856     \n",
            "_________________________________________________________________\n",
            "conv2d_68 (Conv2D)           (None, 10, 10, 256)       295168    \n",
            "_________________________________________________________________\n",
            "pool2 (MaxPooling2D)         (None, 5, 5, 256)         0         \n",
            "_________________________________________________________________\n",
            "dropout_56 (Dropout)         (None, 5, 5, 256)         0         \n",
            "_________________________________________________________________\n",
            "flatten_12 (Flatten)         (None, 6400)              0         \n",
            "_________________________________________________________________\n",
            "dense1 (Dense)               (None, 200)               1280200   \n",
            "_________________________________________________________________\n",
            "dropout_57 (Dropout)         (None, 200)               0         \n",
            "_________________________________________________________________\n",
            "dense2 (Dense)               (None, 64)                12864     \n",
            "_________________________________________________________________\n",
            "dropout_58 (Dropout)         (None, 64)                0         \n",
            "_________________________________________________________________\n",
            "output (Dense)               (None, 3)                 195       \n",
            "=================================================================\n",
            "Total params: 1,681,099\n",
            "Trainable params: 1,681,099\n",
            "Non-trainable params: 0\n",
            "_________________________________________________________________\n"
          ],
          "name": "stdout"
        }
      ]
    },
    {
      "cell_type": "code",
      "metadata": {
        "id": "pKg4XAUd43wJ",
        "outputId": "ae65c72d-dfd5-4288-dcc4-2584ec42b1b5",
        "colab": {
          "base_uri": "https://localhost:8080/",
          "height": 1000
        }
      },
      "source": [
        "#Code for Stratified K-fold Cross Validation for 2D CNN\n",
        "from sklearn.model_selection import StratifiedKFold\n",
        "\n",
        "#splitting data into 5 folds\n",
        "skf = StratifiedKFold(n_splits=5, shuffle=True)\n",
        "skf.get_n_splits(x_train, y_train)\n",
        "\n",
        "foldNum=0\n",
        "for train_index, val_index in skf.split(x_train, y_train):\n",
        "    foldNum+=1\n",
        "    print(\"Results for fold\",foldNum)\n",
        "    X_train, X_val = X[train_index], X[val_index]\n",
        "    Y_train, Y_val = Y[train_index], Y[val_index]\n",
        "\n",
        "    #Model Training for CNN\n",
        "    encoder = LabelBinarizer()\n",
        "    train_y = encoder.fit_transform(Y_train)\n",
        "    val_y = encoder.transform(Y_val)\n",
        "\n",
        "    history = model.fit(X_train, train_y,\n",
        "                        epochs=20,\n",
        "                        batch_size=1024,\n",
        "                        shuffle=True,\n",
        "                        validation_data = (X_val,val_y))"
      ],
      "execution_count": null,
      "outputs": [
        {
          "output_type": "stream",
          "text": [
            "Results for fold 1\n",
            "Epoch 1/20\n",
            "1/1 [==============================] - 0s 449ms/step - loss: 20.4526 - acc: 0.4476 - val_loss: 24.7845 - val_acc: 0.4762\n",
            "Epoch 2/20\n",
            "1/1 [==============================] - 0s 68ms/step - loss: 54.2921 - acc: 0.4619 - val_loss: 3.4871 - val_acc: 0.4762\n",
            "Epoch 3/20\n",
            "1/1 [==============================] - 0s 68ms/step - loss: 9.8188 - acc: 0.4810 - val_loss: 1.5509 - val_acc: 0.6095\n",
            "Epoch 4/20\n",
            "1/1 [==============================] - 0s 71ms/step - loss: 6.2269 - acc: 0.5095 - val_loss: 1.1552 - val_acc: 0.5048\n",
            "Epoch 5/20\n",
            "1/1 [==============================] - 0s 68ms/step - loss: 4.1202 - acc: 0.5321 - val_loss: 1.0223 - val_acc: 0.4762\n",
            "Epoch 6/20\n",
            "1/1 [==============================] - 0s 72ms/step - loss: 2.8602 - acc: 0.5095 - val_loss: 0.8529 - val_acc: 0.4762\n",
            "Epoch 7/20\n",
            "1/1 [==============================] - 0s 68ms/step - loss: 1.7472 - acc: 0.5226 - val_loss: 0.8063 - val_acc: 0.6429\n",
            "Epoch 8/20\n",
            "1/1 [==============================] - 0s 65ms/step - loss: 1.4158 - acc: 0.5286 - val_loss: 0.8180 - val_acc: 0.6190\n",
            "Epoch 9/20\n",
            "1/1 [==============================] - 0s 72ms/step - loss: 1.1510 - acc: 0.5393 - val_loss: 0.8545 - val_acc: 0.6000\n",
            "Epoch 10/20\n",
            "1/1 [==============================] - 0s 69ms/step - loss: 0.9884 - acc: 0.5321 - val_loss: 0.8968 - val_acc: 0.6238\n",
            "Epoch 11/20\n",
            "1/1 [==============================] - 0s 70ms/step - loss: 0.9372 - acc: 0.5381 - val_loss: 0.9337 - val_acc: 0.6857\n",
            "Epoch 12/20\n",
            "1/1 [==============================] - 0s 66ms/step - loss: 0.8727 - acc: 0.5702 - val_loss: 0.9579 - val_acc: 0.7762\n",
            "Epoch 13/20\n",
            "1/1 [==============================] - 0s 69ms/step - loss: 0.8595 - acc: 0.5571 - val_loss: 0.9720 - val_acc: 0.7333\n",
            "Epoch 14/20\n",
            "1/1 [==============================] - 0s 67ms/step - loss: 0.8864 - acc: 0.5619 - val_loss: 0.9727 - val_acc: 0.6714\n",
            "Epoch 15/20\n",
            "1/1 [==============================] - 0s 65ms/step - loss: 0.8779 - acc: 0.5798 - val_loss: 0.9639 - val_acc: 0.6762\n",
            "Epoch 16/20\n",
            "1/1 [==============================] - 0s 71ms/step - loss: 0.8638 - acc: 0.5881 - val_loss: 0.9494 - val_acc: 0.6095\n",
            "Epoch 17/20\n",
            "1/1 [==============================] - 0s 66ms/step - loss: 0.8619 - acc: 0.5821 - val_loss: 0.9292 - val_acc: 0.6000\n",
            "Epoch 18/20\n",
            "1/1 [==============================] - 0s 65ms/step - loss: 0.8457 - acc: 0.5774 - val_loss: 0.9023 - val_acc: 0.6476\n",
            "Epoch 19/20\n",
            "1/1 [==============================] - 0s 69ms/step - loss: 0.8344 - acc: 0.5845 - val_loss: 0.8711 - val_acc: 0.7429\n",
            "Epoch 20/20\n",
            "1/1 [==============================] - 0s 71ms/step - loss: 0.8044 - acc: 0.6274 - val_loss: 0.8371 - val_acc: 0.7667\n",
            "Results for fold 2\n",
            "Epoch 1/20\n",
            "1/1 [==============================] - 0s 88ms/step - loss: 0.7869 - acc: 0.6405 - val_loss: 0.7704 - val_acc: 0.8381\n",
            "Epoch 2/20\n",
            "1/1 [==============================] - 0s 67ms/step - loss: 0.7680 - acc: 0.6333 - val_loss: 0.7339 - val_acc: 0.8381\n",
            "Epoch 3/20\n",
            "1/1 [==============================] - 0s 66ms/step - loss: 0.7443 - acc: 0.6774 - val_loss: 0.7003 - val_acc: 0.8190\n",
            "Epoch 4/20\n",
            "1/1 [==============================] - 0s 66ms/step - loss: 0.7022 - acc: 0.7048 - val_loss: 0.6603 - val_acc: 0.8048\n",
            "Epoch 5/20\n",
            "1/1 [==============================] - 0s 68ms/step - loss: 0.6949 - acc: 0.7345 - val_loss: 0.6206 - val_acc: 0.8048\n",
            "Epoch 6/20\n",
            "1/1 [==============================] - 0s 65ms/step - loss: 0.6522 - acc: 0.7405 - val_loss: 0.5829 - val_acc: 0.8095\n",
            "Epoch 7/20\n",
            "1/1 [==============================] - 0s 66ms/step - loss: 0.6425 - acc: 0.7381 - val_loss: 0.5429 - val_acc: 0.8143\n",
            "Epoch 8/20\n",
            "1/1 [==============================] - 0s 71ms/step - loss: 0.6018 - acc: 0.7643 - val_loss: 0.5050 - val_acc: 0.8238\n",
            "Epoch 9/20\n",
            "1/1 [==============================] - 0s 72ms/step - loss: 0.5918 - acc: 0.7762 - val_loss: 0.4697 - val_acc: 0.8429\n",
            "Epoch 10/20\n",
            "1/1 [==============================] - 0s 67ms/step - loss: 0.5487 - acc: 0.7786 - val_loss: 0.4390 - val_acc: 0.8429\n",
            "Epoch 11/20\n",
            "1/1 [==============================] - 0s 66ms/step - loss: 0.5112 - acc: 0.8107 - val_loss: 0.4129 - val_acc: 0.8476\n",
            "Epoch 12/20\n",
            "1/1 [==============================] - 0s 67ms/step - loss: 0.4935 - acc: 0.8262 - val_loss: 0.3894 - val_acc: 0.8476\n",
            "Epoch 13/20\n",
            "1/1 [==============================] - 0s 67ms/step - loss: 0.4910 - acc: 0.8190 - val_loss: 0.3709 - val_acc: 0.8524\n",
            "Epoch 14/20\n",
            "1/1 [==============================] - 0s 65ms/step - loss: 0.4501 - acc: 0.8369 - val_loss: 0.3569 - val_acc: 0.8524\n",
            "Epoch 15/20\n",
            "1/1 [==============================] - 0s 66ms/step - loss: 0.4521 - acc: 0.8262 - val_loss: 0.3466 - val_acc: 0.8571\n",
            "Epoch 16/20\n",
            "1/1 [==============================] - 0s 69ms/step - loss: 0.4454 - acc: 0.8393 - val_loss: 0.3316 - val_acc: 0.8667\n",
            "Epoch 17/20\n",
            "1/1 [==============================] - 0s 67ms/step - loss: 0.4389 - acc: 0.8369 - val_loss: 0.3195 - val_acc: 0.8810\n",
            "Epoch 18/20\n",
            "1/1 [==============================] - 0s 66ms/step - loss: 0.4159 - acc: 0.8524 - val_loss: 0.3135 - val_acc: 0.8905\n",
            "Epoch 19/20\n",
            "1/1 [==============================] - 0s 66ms/step - loss: 0.4065 - acc: 0.8440 - val_loss: 0.3011 - val_acc: 0.9000\n",
            "Epoch 20/20\n",
            "1/1 [==============================] - 0s 66ms/step - loss: 0.4035 - acc: 0.8631 - val_loss: 0.2893 - val_acc: 0.9000\n",
            "Results for fold 3\n",
            "Epoch 1/20\n",
            "1/1 [==============================] - 0s 89ms/step - loss: 0.3770 - acc: 0.8571 - val_loss: 0.2668 - val_acc: 0.9000\n",
            "Epoch 2/20\n",
            "1/1 [==============================] - 0s 67ms/step - loss: 0.3415 - acc: 0.8762 - val_loss: 0.2608 - val_acc: 0.9143\n",
            "Epoch 3/20\n",
            "1/1 [==============================] - 0s 67ms/step - loss: 0.3703 - acc: 0.8690 - val_loss: 0.2525 - val_acc: 0.9143\n",
            "Epoch 4/20\n",
            "1/1 [==============================] - 0s 68ms/step - loss: 0.3590 - acc: 0.8738 - val_loss: 0.2447 - val_acc: 0.9190\n",
            "Epoch 5/20\n",
            "1/1 [==============================] - 0s 71ms/step - loss: 0.3259 - acc: 0.8810 - val_loss: 0.2348 - val_acc: 0.9238\n",
            "Epoch 6/20\n",
            "1/1 [==============================] - 0s 70ms/step - loss: 0.3332 - acc: 0.8881 - val_loss: 0.2283 - val_acc: 0.9238\n",
            "Epoch 7/20\n",
            "1/1 [==============================] - 0s 65ms/step - loss: 0.3010 - acc: 0.8952 - val_loss: 0.2245 - val_acc: 0.9238\n",
            "Epoch 8/20\n",
            "1/1 [==============================] - 0s 67ms/step - loss: 0.3433 - acc: 0.8798 - val_loss: 0.2171 - val_acc: 0.9286\n",
            "Epoch 9/20\n",
            "1/1 [==============================] - 0s 76ms/step - loss: 0.3201 - acc: 0.8857 - val_loss: 0.2139 - val_acc: 0.9286\n",
            "Epoch 10/20\n",
            "1/1 [==============================] - 0s 66ms/step - loss: 0.3091 - acc: 0.8917 - val_loss: 0.2157 - val_acc: 0.9238\n",
            "Epoch 11/20\n",
            "1/1 [==============================] - 0s 66ms/step - loss: 0.2907 - acc: 0.9012 - val_loss: 0.2199 - val_acc: 0.9238\n",
            "Epoch 12/20\n",
            "1/1 [==============================] - 0s 68ms/step - loss: 0.3053 - acc: 0.8988 - val_loss: 0.2184 - val_acc: 0.9238\n",
            "Epoch 13/20\n",
            "1/1 [==============================] - 0s 67ms/step - loss: 0.2948 - acc: 0.8940 - val_loss: 0.2123 - val_acc: 0.9286\n",
            "Epoch 14/20\n",
            "1/1 [==============================] - 0s 69ms/step - loss: 0.2763 - acc: 0.9024 - val_loss: 0.2067 - val_acc: 0.9286\n",
            "Epoch 15/20\n",
            "1/1 [==============================] - 0s 67ms/step - loss: 0.2738 - acc: 0.8929 - val_loss: 0.1981 - val_acc: 0.9333\n",
            "Epoch 16/20\n",
            "1/1 [==============================] - 0s 67ms/step - loss: 0.2827 - acc: 0.9083 - val_loss: 0.1945 - val_acc: 0.9333\n",
            "Epoch 17/20\n",
            "1/1 [==============================] - 0s 68ms/step - loss: 0.2913 - acc: 0.9024 - val_loss: 0.2005 - val_acc: 0.9286\n",
            "Epoch 18/20\n",
            "1/1 [==============================] - 0s 66ms/step - loss: 0.2676 - acc: 0.9060 - val_loss: 0.2092 - val_acc: 0.9238\n",
            "Epoch 19/20\n",
            "1/1 [==============================] - 0s 70ms/step - loss: 0.2562 - acc: 0.9083 - val_loss: 0.1965 - val_acc: 0.9286\n",
            "Epoch 20/20\n",
            "1/1 [==============================] - 0s 67ms/step - loss: 0.2763 - acc: 0.9083 - val_loss: 0.1798 - val_acc: 0.9333\n",
            "Results for fold 4\n",
            "Epoch 1/20\n",
            "1/1 [==============================] - 0s 86ms/step - loss: 0.2922 - acc: 0.9048 - val_loss: 0.1721 - val_acc: 0.9381\n",
            "Epoch 2/20\n",
            "1/1 [==============================] - 0s 68ms/step - loss: 0.2819 - acc: 0.9179 - val_loss: 0.1863 - val_acc: 0.9286\n",
            "Epoch 3/20\n",
            "1/1 [==============================] - 0s 66ms/step - loss: 0.2415 - acc: 0.9190 - val_loss: 0.2080 - val_acc: 0.9190\n",
            "Epoch 4/20\n",
            "1/1 [==============================] - 0s 66ms/step - loss: 0.2170 - acc: 0.9202 - val_loss: 0.2281 - val_acc: 0.9095\n",
            "Epoch 5/20\n",
            "1/1 [==============================] - 0s 74ms/step - loss: 0.2618 - acc: 0.9119 - val_loss: 0.2079 - val_acc: 0.9190\n",
            "Epoch 6/20\n",
            "1/1 [==============================] - 0s 68ms/step - loss: 0.2349 - acc: 0.9214 - val_loss: 0.1803 - val_acc: 0.9190\n",
            "Epoch 7/20\n",
            "1/1 [==============================] - 0s 67ms/step - loss: 0.2391 - acc: 0.9202 - val_loss: 0.1631 - val_acc: 0.9333\n",
            "Epoch 8/20\n",
            "1/1 [==============================] - 0s 67ms/step - loss: 0.2239 - acc: 0.9250 - val_loss: 0.1590 - val_acc: 0.9381\n",
            "Epoch 9/20\n",
            "1/1 [==============================] - 0s 68ms/step - loss: 0.2170 - acc: 0.9238 - val_loss: 0.1723 - val_acc: 0.9286\n",
            "Epoch 10/20\n",
            "1/1 [==============================] - 0s 69ms/step - loss: 0.2242 - acc: 0.9167 - val_loss: 0.1967 - val_acc: 0.9190\n",
            "Epoch 11/20\n",
            "1/1 [==============================] - 0s 64ms/step - loss: 0.2387 - acc: 0.9202 - val_loss: 0.1848 - val_acc: 0.9286\n",
            "Epoch 12/20\n",
            "1/1 [==============================] - 0s 65ms/step - loss: 0.2407 - acc: 0.9190 - val_loss: 0.1590 - val_acc: 0.9381\n",
            "Epoch 13/20\n",
            "1/1 [==============================] - 0s 67ms/step - loss: 0.2205 - acc: 0.9286 - val_loss: 0.1523 - val_acc: 0.9381\n",
            "Epoch 14/20\n",
            "1/1 [==============================] - 0s 68ms/step - loss: 0.2111 - acc: 0.9238 - val_loss: 0.1610 - val_acc: 0.9333\n",
            "Epoch 15/20\n",
            "1/1 [==============================] - 0s 68ms/step - loss: 0.1962 - acc: 0.9238 - val_loss: 0.1682 - val_acc: 0.9333\n",
            "Epoch 16/20\n",
            "1/1 [==============================] - 0s 68ms/step - loss: 0.2055 - acc: 0.9238 - val_loss: 0.1573 - val_acc: 0.9381\n",
            "Epoch 17/20\n",
            "1/1 [==============================] - 0s 68ms/step - loss: 0.2090 - acc: 0.9214 - val_loss: 0.1484 - val_acc: 0.9476\n",
            "Epoch 18/20\n",
            "1/1 [==============================] - 0s 67ms/step - loss: 0.1999 - acc: 0.9274 - val_loss: 0.1464 - val_acc: 0.9524\n",
            "Epoch 19/20\n",
            "1/1 [==============================] - 0s 72ms/step - loss: 0.2038 - acc: 0.9310 - val_loss: 0.1477 - val_acc: 0.9476\n",
            "Epoch 20/20\n",
            "1/1 [==============================] - 0s 70ms/step - loss: 0.2009 - acc: 0.9345 - val_loss: 0.1487 - val_acc: 0.9381\n",
            "Results for fold 5\n",
            "Epoch 1/20\n",
            "1/1 [==============================] - 0s 93ms/step - loss: 0.1681 - acc: 0.9357 - val_loss: 0.1639 - val_acc: 0.9190\n",
            "Epoch 2/20\n",
            "1/1 [==============================] - 0s 67ms/step - loss: 0.1651 - acc: 0.9369 - val_loss: 0.1585 - val_acc: 0.9190\n",
            "Epoch 3/20\n",
            "1/1 [==============================] - 0s 69ms/step - loss: 0.1818 - acc: 0.9298 - val_loss: 0.1473 - val_acc: 0.9238\n",
            "Epoch 4/20\n",
            "1/1 [==============================] - 0s 70ms/step - loss: 0.1665 - acc: 0.9417 - val_loss: 0.1426 - val_acc: 0.9286\n",
            "Epoch 5/20\n",
            "1/1 [==============================] - 0s 67ms/step - loss: 0.1822 - acc: 0.9321 - val_loss: 0.1382 - val_acc: 0.9286\n",
            "Epoch 6/20\n",
            "1/1 [==============================] - 0s 67ms/step - loss: 0.1997 - acc: 0.9250 - val_loss: 0.1540 - val_acc: 0.9286\n",
            "Epoch 7/20\n",
            "1/1 [==============================] - 0s 66ms/step - loss: 0.1712 - acc: 0.9440 - val_loss: 0.1591 - val_acc: 0.9238\n",
            "Epoch 8/20\n",
            "1/1 [==============================] - 0s 66ms/step - loss: 0.1679 - acc: 0.9440 - val_loss: 0.1465 - val_acc: 0.9286\n",
            "Epoch 9/20\n",
            "1/1 [==============================] - 0s 66ms/step - loss: 0.1618 - acc: 0.9476 - val_loss: 0.1272 - val_acc: 0.9429\n",
            "Epoch 10/20\n",
            "1/1 [==============================] - 0s 66ms/step - loss: 0.1516 - acc: 0.9488 - val_loss: 0.1160 - val_acc: 0.9476\n",
            "Epoch 11/20\n",
            "1/1 [==============================] - 0s 67ms/step - loss: 0.1466 - acc: 0.9488 - val_loss: 0.1130 - val_acc: 0.9571\n",
            "Epoch 12/20\n",
            "1/1 [==============================] - 0s 67ms/step - loss: 0.1703 - acc: 0.9321 - val_loss: 0.1278 - val_acc: 0.9429\n",
            "Epoch 13/20\n",
            "1/1 [==============================] - 0s 67ms/step - loss: 0.1743 - acc: 0.9440 - val_loss: 0.1340 - val_acc: 0.9381\n",
            "Epoch 14/20\n",
            "1/1 [==============================] - 0s 68ms/step - loss: 0.1716 - acc: 0.9452 - val_loss: 0.1292 - val_acc: 0.9429\n",
            "Epoch 15/20\n",
            "1/1 [==============================] - 0s 66ms/step - loss: 0.1340 - acc: 0.9500 - val_loss: 0.1217 - val_acc: 0.9476\n",
            "Epoch 16/20\n",
            "1/1 [==============================] - 0s 66ms/step - loss: 0.1353 - acc: 0.9571 - val_loss: 0.1260 - val_acc: 0.9429\n",
            "Epoch 17/20\n",
            "1/1 [==============================] - 0s 70ms/step - loss: 0.1493 - acc: 0.9500 - val_loss: 0.1280 - val_acc: 0.9429\n",
            "Epoch 18/20\n",
            "1/1 [==============================] - 0s 65ms/step - loss: 0.1312 - acc: 0.9548 - val_loss: 0.1338 - val_acc: 0.9381\n",
            "Epoch 19/20\n",
            "1/1 [==============================] - 0s 68ms/step - loss: 0.1358 - acc: 0.9548 - val_loss: 0.1204 - val_acc: 0.9476\n",
            "Epoch 20/20\n",
            "1/1 [==============================] - 0s 67ms/step - loss: 0.1428 - acc: 0.9464 - val_loss: 0.1205 - val_acc: 0.9476\n"
          ],
          "name": "stdout"
        }
      ]
    },
    {
      "cell_type": "code",
      "metadata": {
        "id": "a_DibbMObLzD"
      },
      "source": [
        "#Feature Extraction from Dense Layer 1 of CNN\n",
        "intermediate_layer_model = Model(inputs=model.input,outputs=model.get_layer(layer1).output)\n",
        "\n",
        "intermediate_trainX = intermediate_layer_model.predict(x_train)\n",
        "intermediate_testX = intermediate_layer_model.predict(x_test)"
      ],
      "execution_count": null,
      "outputs": []
    },
    {
      "cell_type": "code",
      "metadata": {
        "id": "oWcz6takGQaN",
        "outputId": "4590d91a-f5bf-4d17-c8df-d1e17f538ea6",
        "colab": {
          "base_uri": "https://localhost:8080/",
          "height": 870
        }
      },
      "source": [
        "#Code for Stratified K-fold Cross Validation for KNN\n",
        "from sklearn.model_selection import StratifiedKFold\n",
        "from keras.utils.np_utils import to_categorical\n",
        "\n",
        "k_values = [3,5,7,9]\n",
        "# accuracies = []\n",
        "knn_models = []\n",
        "#splitting data into 5 folds\n",
        "skf = StratifiedKFold(n_splits=5, shuffle=True)\n",
        "skf.get_n_splits(intermediate_trainX, y_train)\n",
        "# ytrain = np.argmax(y_train, axis=1)\n",
        "final_accs = []\n",
        "for k in k_values:\n",
        "  foldNum=0\n",
        "  print('k-NN Model (k=', k,')')\n",
        "  for train_index, val_index in skf.split(intermediate_trainX, y_train):\n",
        "    foldNum+=1\n",
        "    print(\"Results for fold\",foldNum)\n",
        "    X_train, X_val = intermediate_trainX[train_index], intermediate_trainX[val_index]\n",
        "    Y_train, Y_val = y_train[train_index], y_train[val_index]\n",
        "\n",
        "    knn = neighbors.KNeighborsClassifier(n_neighbors=k)\n",
        "    knn.fit(X_train, Y_train)\n",
        "    print(knn.score(X_val, Y_val))\n",
        "\n",
        "  score = knn.score(X_val, Y_val)\n",
        "  final_accs.append(score) # append acc predicted\n",
        "  knn_models.append(knn)\n",
        "  print()\n",
        "  "
      ],
      "execution_count": null,
      "outputs": [
        {
          "output_type": "stream",
          "text": [
            "k-NN Model (k= 3 )\n",
            "Results for fold 1\n",
            "0.9761904761904762\n",
            "Results for fold 2\n",
            "0.9809523809523809\n",
            "Results for fold 3\n",
            "0.9857142857142858\n",
            "Results for fold 4\n",
            "0.9571428571428572\n",
            "Results for fold 5\n",
            "0.9571428571428572\n",
            "\n",
            "k-NN Model (k= 5 )\n",
            "Results for fold 1\n",
            "0.9666666666666667\n",
            "Results for fold 2\n",
            "0.9809523809523809\n",
            "Results for fold 3\n",
            "0.9666666666666667\n",
            "Results for fold 4\n",
            "0.9476190476190476\n",
            "Results for fold 5\n",
            "0.9523809523809523\n",
            "\n",
            "k-NN Model (k= 7 )\n",
            "Results for fold 1\n",
            "0.9619047619047619\n",
            "Results for fold 2\n",
            "0.9666666666666667\n",
            "Results for fold 3\n",
            "0.9571428571428572\n",
            "Results for fold 4\n",
            "0.9666666666666667\n",
            "Results for fold 5\n",
            "0.9571428571428572\n",
            "\n",
            "k-NN Model (k= 9 )\n",
            "Results for fold 1\n",
            "0.9428571428571428\n",
            "Results for fold 2\n",
            "0.9619047619047619\n",
            "Results for fold 3\n",
            "0.9571428571428572\n",
            "Results for fold 4\n",
            "0.9619047619047619\n",
            "Results for fold 5\n",
            "0.9571428571428572\n",
            "\n"
          ],
          "name": "stdout"
        }
      ]
    },
    {
      "cell_type": "code",
      "metadata": {
        "id": "8ewSKz2jI-X0",
        "outputId": "640767c8-8fa8-43b2-8adb-b105d1131a59",
        "colab": {
          "base_uri": "https://localhost:8080/",
          "height": 70
        }
      },
      "source": [
        "#Storing the best model and accuracy\n",
        "final_model = None\n",
        "final_acc = 0\n",
        "for model in knn_models:\n",
        "    preds = model.predict(intermediate_trainX)\n",
        "    acc = accuracy_score(y_train, preds)\n",
        "    if (acc > final_acc):\n",
        "        final_model = model\n",
        "        final_acc = acc\n",
        "      \n",
        "print(final_model, final_acc)\n",
        "\n",
        "#save model to pickle file\n",
        "fname = '1105134-KNN.pkl'\n",
        "pickle.dump(final_model, open(fname, 'wb'))"
      ],
      "execution_count": null,
      "outputs": [
        {
          "output_type": "stream",
          "text": [
            "KNeighborsClassifier(algorithm='auto', leaf_size=30, metric='minkowski',\n",
            "                     metric_params=None, n_jobs=None, n_neighbors=3, p=2,\n",
            "                     weights='uniform') 0.981904761904762\n"
          ],
          "name": "stdout"
        }
      ]
    },
    {
      "cell_type": "code",
      "metadata": {
        "id": "s7pLZHlZ5UJM",
        "outputId": "e9fa097a-1bae-415d-cad5-925c506be047",
        "colab": {
          "base_uri": "https://localhost:8080/",
          "height": 35
        }
      },
      "source": [
        "#load KNN model\n",
        "knn = pickle.load(open(fname, 'rb'))\n",
        "\n",
        "from sklearn.metrics import accuracy_score\n",
        "\n",
        "# KNN Prediction\n",
        "pred_knn = knn.predict(intermediate_testX)\n",
        "accuracies = accuracy_score(y_test, pred_knn) * 100\n",
        "print('KNN Accuracy: ', accuracies, '%')"
      ],
      "execution_count": null,
      "outputs": [
        {
          "output_type": "stream",
          "text": [
            "KNN Accuracy:  97.55555555555556 %\n"
          ],
          "name": "stdout"
        }
      ]
    },
    {
      "cell_type": "code",
      "metadata": {
        "id": "faQffiJDvGbw",
        "outputId": "36f1ac5b-6a85-4956-c5d6-adba9b2615fd",
        "colab": {
          "base_uri": "https://localhost:8080/",
          "height": 312
        }
      },
      "source": [
        "# KNN plot\n",
        "plt.title('k-NN: Accuracy Comparison for k-Neighbors')\n",
        "plt.bar(k_values, final_accs)\n",
        "plt.legend()\n",
        "plt.xlabel('Number of Neighbors')\n",
        "plt.ylabel('Accuracy')\n",
        "plt.ylim(0.8, 1.01)\n",
        "plt.show()"
      ],
      "execution_count": null,
      "outputs": [
        {
          "output_type": "stream",
          "text": [
            "No handles with labels found to put in legend.\n"
          ],
          "name": "stderr"
        },
        {
          "output_type": "display_data",
          "data": {
            "image/png": "[encoded data removed]",
            "text/plain": [
              "<Figure size 432x288 with 1 Axes>"
            ]
          },
          "metadata": {
            "tags": [],
            "needs_background": "light"
          }
        }
      ]
    },
    {
      "cell_type": "code",
      "metadata": {
        "id": "ccgbt62OzHdz"
      },
      "source": [
        "#Random Search Parameter Grid for Randsom Forest Hyperparameter Tuning\n",
        "\n",
        "# Tree count in random forest\n",
        "n_estimators = [int(x) for x in np.linspace(start = 40, stop = 100, num = 20)]\n",
        "# feature count for each split\n",
        "max_features = ['auto', 'sqrt']\n",
        "# level limit\n",
        "max_depth = [int(x) for x in np.linspace(40, 100, num = 20)]\n",
        "# max_depth.append(None)\n",
        "# sample limit for each node split\n",
        "min_samples_split = [3, 5, 9]\n",
        "# sample limit for leaf node\n",
        "min_samples_leaf = [2, 3, 5]\n",
        "# selecting smples for training\n",
        "bootstrap = [True, False]\n",
        "#random grid\n",
        "random_grid = {'n_estimators': n_estimators,\n",
        "               'max_features': max_features,\n",
        "               'max_depth': max_depth,\n",
        "               'min_samples_split': min_samples_split,\n",
        "               'min_samples_leaf': min_samples_leaf,\n",
        "               'bootstrap': bootstrap}"
      ],
      "execution_count": null,
      "outputs": []
    },
    {
      "cell_type": "code",
      "metadata": {
        "id": "3ArzFBCf1Xnx",
        "outputId": "ccd63932-6b2b-48dc-c319-7f4493265374",
        "colab": {
          "base_uri": "https://localhost:8080/",
          "height": 70
        }
      },
      "source": [
        "#Random Forest Classifier\n",
        "clf=RandomForestClassifier(n_estimators=100)\n",
        "\n",
        "rf_random = RandomizedSearchCV(estimator = clf, param_distributions = random_grid, n_iter = 10, cv = 3, verbose=1, random_state=20)\n",
        "# Fit the random search model\n",
        "rf_random.fit(intermediate_trainX,y_train)\n",
        "\n",
        "#save model to pickle file\n",
        "ffname = '1105134-RF.pkl'\n",
        "pickle.dump(rf_random.best_estimator_, open(ffname, 'wb'))"
      ],
      "execution_count": null,
      "outputs": [
        {
          "output_type": "stream",
          "text": [
            "Fitting 3 folds for each of 10 candidates, totalling 30 fits\n"
          ],
          "name": "stdout"
        },
        {
          "output_type": "stream",
          "text": [
            "[Parallel(n_jobs=1)]: Using backend SequentialBackend with 1 concurrent workers.\n",
            "[Parallel(n_jobs=1)]: Done  30 out of  30 | elapsed:    3.9s finished\n"
          ],
          "name": "stderr"
        }
      ]
    },
    {
      "cell_type": "code",
      "metadata": {
        "id": "EAVvdFWFOdyI",
        "outputId": "88d837bf-8dbe-422e-83e2-2a43b7ce878b",
        "colab": {
          "base_uri": "https://localhost:8080/",
          "height": 215
        }
      },
      "source": [
        "# Best rf model\n",
        "best_rf = rf_random.best_estimator_\n",
        "best_params = rf_random.best_params_\n",
        "best_acc = rf_random.best_score_\n",
        "\n",
        "all_params = rf_random.cv_results_['params']\n",
        "all_accs = rf_random.cv_results_['mean_test_score']\n",
        "\n",
        "for a, p in zip(all_accs, all_params):\n",
        "  print('accuracy', a, 'achieved with params :',p)\n"
      ],
      "execution_count": null,
      "outputs": [
        {
          "output_type": "stream",
          "text": [
            "accuracy 0.9542857142857143 achieved with params : {'n_estimators': 84, 'min_samples_split': 5, 'min_samples_leaf': 3, 'max_features': 'sqrt', 'max_depth': 68, 'bootstrap': False}\n",
            "accuracy 0.9504761904761905 achieved with params : {'n_estimators': 62, 'min_samples_split': 9, 'min_samples_leaf': 2, 'max_features': 'auto', 'max_depth': 77, 'bootstrap': True}\n",
            "accuracy 0.958095238095238 achieved with params : {'n_estimators': 74, 'min_samples_split': 3, 'min_samples_leaf': 2, 'max_features': 'sqrt', 'max_depth': 40, 'bootstrap': False}\n",
            "accuracy 0.9561904761904761 achieved with params : {'n_estimators': 65, 'min_samples_split': 9, 'min_samples_leaf': 2, 'max_features': 'sqrt', 'max_depth': 100, 'bootstrap': True}\n",
            "accuracy 0.9533333333333333 achieved with params : {'n_estimators': 40, 'min_samples_split': 5, 'min_samples_leaf': 3, 'max_features': 'sqrt', 'max_depth': 58, 'bootstrap': False}\n",
            "accuracy 0.9504761904761905 achieved with params : {'n_estimators': 87, 'min_samples_split': 3, 'min_samples_leaf': 5, 'max_features': 'sqrt', 'max_depth': 71, 'bootstrap': True}\n",
            "accuracy 0.9485714285714287 achieved with params : {'n_estimators': 71, 'min_samples_split': 5, 'min_samples_leaf': 5, 'max_features': 'auto', 'max_depth': 90, 'bootstrap': True}\n",
            "accuracy 0.9495238095238095 achieved with params : {'n_estimators': 62, 'min_samples_split': 9, 'min_samples_leaf': 5, 'max_features': 'auto', 'max_depth': 52, 'bootstrap': True}\n",
            "accuracy 0.9466666666666667 achieved with params : {'n_estimators': 84, 'min_samples_split': 9, 'min_samples_leaf': 5, 'max_features': 'sqrt', 'max_depth': 65, 'bootstrap': True}\n",
            "accuracy 0.958095238095238 achieved with params : {'n_estimators': 46, 'min_samples_split': 9, 'min_samples_leaf': 2, 'max_features': 'sqrt', 'max_depth': 74, 'bootstrap': False}\n"
          ],
          "name": "stdout"
        }
      ]
    },
    {
      "cell_type": "code",
      "metadata": {
        "id": "wyUVxC_sSR-c",
        "outputId": "d46e03c9-2911-44c4-aa1f-ad26f6972f41",
        "colab": {
          "base_uri": "https://localhost:8080/",
          "height": 124
        }
      },
      "source": [
        "#Optimal Hyperparameters in Random Forest\n",
        "\n",
        "for hp in best_params:\n",
        "  print('Optimal', hp, 'value:', best_params[hp])"
      ],
      "execution_count": null,
      "outputs": [
        {
          "output_type": "stream",
          "text": [
            "Optimal n_estimators value: 74\n",
            "Optimal min_samples_split value: 3\n",
            "Optimal min_samples_leaf value: 2\n",
            "Optimal max_features value: sqrt\n",
            "Optimal max_depth value: 40\n",
            "Optimal bootstrap value: False\n"
          ],
          "name": "stdout"
        }
      ]
    },
    {
      "cell_type": "code",
      "metadata": {
        "id": "TG3zfH4rN2a6",
        "outputId": "9b47a8fd-cc51-4c83-af8f-1583f7a47065",
        "colab": {
          "base_uri": "https://localhost:8080/",
          "height": 124
        }
      },
      "source": [
        "#load RF model\n",
        "model_rf = pickle.load(open(ffname, 'rb'))\n",
        "\n",
        "#Testing and predicting\n",
        "pred_rf = model_rf.predict(intermediate_testX)\n",
        "\n",
        "#Random Forest Accuracy\n",
        "from sklearn.metrics import confusion_matrix\n",
        "accuracy_rf = accuracy_score(y_test, pred_rf)\n",
        "print(\"RF Accuracy: \", accuracy_rf)\n",
        "print()\n",
        "print('Confusion Matrix: \\n', confusion_matrix(y_test, pred_rf))"
      ],
      "execution_count": null,
      "outputs": [
        {
          "output_type": "stream",
          "text": [
            "RF Accuracy:  0.9711111111111111\n",
            "\n",
            "Confusion Matrix: \n",
            " [[135   0   5]\n",
            " [  0 135   2]\n",
            " [  6   0 167]]\n"
          ],
          "name": "stdout"
        }
      ]
    }
  ]
}